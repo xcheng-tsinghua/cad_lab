{
 "cells": [
  {
   "cell_type": "markdown",
   "metadata": {},
   "source": [
    "# PythonOCC - Example - Topology - Draft Angle"
   ]
  },
  {
   "cell_type": "markdown",
   "metadata": {},
   "source": [
    "Example of the ***BRepOffsetAPI_DraftAngle*** function allows modifying a shape by applying draft angles to its planar, cylindrical and conical faces.<br>"
   ]
  },
  {
   "cell_type": "code",
   "execution_count": 21,
   "metadata": {},
   "outputs": [],
   "source": [
    "# imports from OCC.Core\n",
    "import math\n",
    "from OCC.Core.gp import gp_Dir, gp_Pln, gp_Ax3, gp\n",
    "from OCC.Core.BRepPrimAPI import BRepPrimAPI_MakeBox\n",
    "from OCC.Core.BRepOffsetAPI import BRepOffsetAPI_DraftAngle\n",
    "from OCC.Core.Precision import precision\n",
    "from OCC.Core.BRep import BRep_Tool\n",
    "from OCC.Core.TopExp import TopExp_Explorer\n",
    "from OCC.Core.TopAbs import TopAbs_FACE\n",
    "from OCC.Core.Geom import Geom_Plane\n",
    "from OCC.Core.TopoDS import topods"
   ]
  },
  {
   "cell_type": "code",
   "execution_count": 22,
   "metadata": {},
   "outputs": [],
   "source": [
    "from OCC.Display.WebGl.jupyter_renderer import JupyterRenderer"
   ]
  },
  {
   "cell_type": "markdown",
   "metadata": {},
   "source": [
    "Creation of the Jupyter Renderer"
   ]
  },
  {
   "cell_type": "code",
   "execution_count": 23,
   "metadata": {},
   "outputs": [],
   "source": [
    "my_renderer = JupyterRenderer()"
   ]
  },
  {
   "cell_type": "markdown",
   "metadata": {},
   "source": [
    "Generation of a box"
   ]
  },
  {
   "cell_type": "code",
   "execution_count": 24,
   "metadata": {},
   "outputs": [],
   "source": [
    "S = BRepPrimAPI_MakeBox(20.0, 30.0, 15.0).Shape()"
   ]
  },
  {
   "cell_type": "markdown",
   "metadata": {},
   "source": [
    "Apply a draft angle."
   ]
  },
  {
   "cell_type": "code",
   "execution_count": 25,
   "metadata": {},
   "outputs": [],
   "source": [
    "adraft = BRepOffsetAPI_DraftAngle(S)\n",
    "topExp = TopExp_Explorer()\n",
    "topExp.Init(S, TopAbs_FACE)\n",
    "while topExp.More():\n",
    "    face = topods.Face(topExp.Current())\n",
    "    surf = Geom_Plane.DownCast(BRep_Tool.Surface(face))\n",
    "    dirf = surf.Pln().Axis().Direction()\n",
    "    ddd = gp_Dir(0, 0, 1)\n",
    "    if dirf.IsNormal(ddd, precision.Angular()):\n",
    "        adraft.Add(face, ddd, math.radians(15), gp_Pln(gp_Ax3(gp.XOY())))\n",
    "    topExp.Next()\n",
    "adraft.Build()\n",
    "shp = adraft.Shape()"
   ]
  },
  {
   "cell_type": "code",
   "execution_count": 26,
   "metadata": {},
   "outputs": [
    {
     "data": {
      "application/vnd.jupyter.widget-view+json": {
       "model_id": "549bc32b189c486e880ce60f7167bfd8",
       "version_major": 2,
       "version_minor": 0
      },
      "text/plain": [
       "HBox(children=(VBox(children=(HBox(children=(Checkbox(value=True, description='Axes', layout=Layout(height='au…"
      ]
     },
     "metadata": {},
     "output_type": "display_data"
    }
   ],
   "source": [
    "my_renderer.DisplayShape(shp, render_edges=True, update=True)"
   ]
  }
 ],
 "metadata": {
  "kernelspec": {
   "display_name": "Python 3 (ipykernel)",
   "language": "python",
   "name": "python3"
  },
  "language_info": {
   "codemirror_mode": {
    "name": "ipython",
    "version": 3
   },
   "file_extension": ".py",
   "mimetype": "text/x-python",
   "name": "python",
   "nbconvert_exporter": "python",
   "pygments_lexer": "ipython3",
   "version": "3.9.18"
  }
 },
 "nbformat": 4,
 "nbformat_minor": 4
}
