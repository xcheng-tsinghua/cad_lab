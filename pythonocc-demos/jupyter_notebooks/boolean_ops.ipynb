{
 "cells": [
  {
   "cell_type": "markdown",
   "metadata": {},
   "source": [
    "# PythonOCC - Example - Topology - Boolean"
   ]
  },
  {
   "cell_type": "markdown",
   "metadata": {},
   "source": [
    "Example of the ***BRepAlgoAPI*** functions performing boolean operations: Fuse, Common, Section and Cut.<br>"
   ]
  },
  {
   "cell_type": "code",
   "execution_count": 12,
   "metadata": {},
   "outputs": [],
   "source": [
    "from OCC.Core.BRepAlgoAPI import (\n",
    "    BRepAlgoAPI_Fuse,\n",
    "    BRepAlgoAPI_Common,\n",
    "    BRepAlgoAPI_Section,\n",
    "    BRepAlgoAPI_Cut,\n",
    ")\n",
    "from OCC.Core.BRepBuilderAPI import BRepBuilderAPI_MakeFace, BRepBuilderAPI_Transform\n",
    "from OCC.Core.BRepPrimAPI import (\n",
    "    BRepPrimAPI_MakeBox,\n",
    "    BRepPrimAPI_MakeWedge,\n",
    "    BRepPrimAPI_MakeSphere,\n",
    "    BRepPrimAPI_MakeTorus,\n",
    ")\n",
    "from OCC.Core.gp import gp_Vec, gp_Ax2, gp_Pnt, gp_Dir, gp_Pln, gp_Trsf"
   ]
  },
  {
   "cell_type": "code",
   "execution_count": 13,
   "metadata": {},
   "outputs": [],
   "source": [
    "from OCC.Display.WebGl.jupyter_renderer import JupyterRenderer"
   ]
  },
  {
   "cell_type": "code",
   "execution_count": 14,
   "metadata": {},
   "outputs": [],
   "source": [
    "from ipywidgets import interact, interactive, fixed, interact_manual\n",
    "import ipywidgets as widgets"
   ]
  },
  {
   "cell_type": "code",
   "execution_count": 15,
   "metadata": {},
   "outputs": [],
   "source": [
    "def translate_topods_from_vector(brep_or_iterable, vec, copy=False):\n",
    "    \"\"\"\n",
    "    translate a brep over a vector\n",
    "    @param brep:    the Topo_DS to translate\n",
    "    @param vec:     the vector defining the translation\n",
    "    @param copy:    copies to brep if True\n",
    "    \"\"\"\n",
    "    trns = gp_Trsf()\n",
    "    trns.SetTranslation(vec)\n",
    "    brep_trns = BRepBuilderAPI_Transform(brep_or_iterable, trns, copy)\n",
    "    brep_trns.Build()\n",
    "    return brep_trns.Shape()"
   ]
  },
  {
   "cell_type": "code",
   "execution_count": 16,
   "metadata": {},
   "outputs": [],
   "source": [
    "def fuse(event=None):\n",
    "    box1 = BRepPrimAPI_MakeBox(2, 1, 1).Shape()\n",
    "    box2 = BRepPrimAPI_MakeBox(2, 1, 1).Shape()\n",
    "    box1 = translate_topods_from_vector(box1, gp_Vec(0.5, 0.5, 0))\n",
    "    fusedshp = BRepAlgoAPI_Fuse(box1, box2).Shape()\n",
    "\n",
    "    rnd = JupyterRenderer()\n",
    "    rnd.DisplayShape(fusedshp, render_edges=True)\n",
    "    rnd.Display()"
   ]
  },
  {
   "cell_type": "code",
   "execution_count": 17,
   "metadata": {},
   "outputs": [],
   "source": [
    "def common(event=None):\n",
    "    # Create Box\n",
    "    axe = gp_Ax2(gp_Pnt(10, 10, 10), gp_Dir(1, 2, 1))\n",
    "    Box = BRepPrimAPI_MakeBox(axe, 60, 80, 100).Shape()\n",
    "    # Create wedge\n",
    "    Wedge = BRepPrimAPI_MakeWedge(60.0, 100.0, 80.0, 20.0).Shape()\n",
    "    # Common surface\n",
    "    CommonSurface = BRepAlgoAPI_Common(Box, Wedge).Shape()\n",
    "\n",
    "    rnd = JupyterRenderer()\n",
    "    rnd.DisplayShape(Box, transparency=True, opacity=0.2)\n",
    "    rnd.DisplayShape(Wedge, transparency=True, opacity=0.2)\n",
    "    rnd.DisplayShape(CommonSurface, render_edges=True)\n",
    "    rnd.Display()"
   ]
  },
  {
   "cell_type": "code",
   "execution_count": 18,
   "metadata": {},
   "outputs": [],
   "source": [
    "def slicer(event=None):\n",
    "    # Param\n",
    "    Zmin, Zmax, deltaZ = -100, 100, 5\n",
    "    # Note: the shape can also come from a shape selected from InteractiveViewer\n",
    "    # if 'display' in dir():\n",
    "    #    shape = display.GetSelectedShape()\n",
    "    # else:\n",
    "    # Create the shape to slice\n",
    "    shape = BRepPrimAPI_MakeSphere(60.0).Shape()\n",
    "    # Define the direction\n",
    "    D = gp_Dir(0.0, 0.0, 1.0)  # the z direction\n",
    "    # Perform slice\n",
    "    sections = []\n",
    "    # init_time = time.time()  # for total time computation\n",
    "    for z in range(Zmin, Zmax, deltaZ):\n",
    "        # Create Plane defined by a point and the perpendicular direction\n",
    "        P = gp_Pnt(0, 0, z)\n",
    "        Pln = gp_Pln(P, D)\n",
    "        face = BRepBuilderAPI_MakeFace(Pln).Shape()\n",
    "        # Computes Shape/Plane intersection\n",
    "        section_shp = BRepAlgoAPI_Section(shape, face)\n",
    "        if section_shp.IsDone():\n",
    "            sections.append(section_shp)\n",
    "    # total_time = time.time() - init_time\n",
    "    # print(\"%.3fs necessary to perform slice.\" % total_time)\n",
    "\n",
    "    rnd = JupyterRenderer()\n",
    "    rnd.DisplayShape(shape)\n",
    "    rnd.Display()\n",
    "    # for section_ in sections:\n",
    "    #    rnd.DisplayShape(section_.Shape())"
   ]
  },
  {
   "cell_type": "code",
   "execution_count": 19,
   "metadata": {},
   "outputs": [],
   "source": [
    "def section(event=None):\n",
    "    torus = BRepPrimAPI_MakeTorus(120, 20).Shape()\n",
    "    radius = 120.0\n",
    "    sections = []\n",
    "    for i in range(-3, 4):\n",
    "        # Create Sphere\n",
    "        sphere = BRepPrimAPI_MakeSphere(gp_Pnt(26 * 3 * i, 0, 0), radius).Shape()\n",
    "        # Computes Torus/Sphere section\n",
    "        section_shp = BRepAlgoAPI_Section(torus, sphere, False)\n",
    "        section_shp.ComputePCurveOn1(True)\n",
    "        section_shp.Approximation(True)\n",
    "        section_shp.Build()\n",
    "        sections.append(section_shp)\n",
    "\n",
    "    rnd = JupyterRenderer()\n",
    "    rnd.DisplayShape(torus)\n",
    "    rnd.Display()\n",
    "    # for section_ in sections:\n",
    "    #    display.DisplayShape(section_.Shape())"
   ]
  },
  {
   "cell_type": "code",
   "execution_count": 20,
   "metadata": {},
   "outputs": [],
   "source": [
    "def cut(event=None):\n",
    "    # Create Box\n",
    "    Box = BRepPrimAPI_MakeBox(200, 60, 60).Shape()\n",
    "    # Create Sphere\n",
    "    Sphere = BRepPrimAPI_MakeSphere(gp_Pnt(100, 20, 20), 80).Shape()\n",
    "    # Cut: the shere is cut 'by' the box\n",
    "    Cut = BRepAlgoAPI_Cut(Sphere, Box).Shape()\n",
    "\n",
    "    rnd = JupyterRenderer()\n",
    "    rnd.DisplayShape(Box, transparency=True, opacity=0.2)\n",
    "    rnd.DisplayShape(Cut, render_edges=True)\n",
    "    rnd.Display()"
   ]
  },
  {
   "cell_type": "code",
   "execution_count": 21,
   "metadata": {},
   "outputs": [],
   "source": [
    "def f(boolop):\n",
    "    if boolop == \"fuse\":\n",
    "        fuse()\n",
    "    elif boolop == \"common\":\n",
    "        common()\n",
    "    elif boolop == \"slicer\":\n",
    "        slicer()\n",
    "    elif boolop == \"section\":\n",
    "        section()\n",
    "    elif boolop == \"cut\":\n",
    "        cut()"
   ]
  },
  {
   "cell_type": "code",
   "execution_count": 22,
   "metadata": {
    "scrolled": true
   },
   "outputs": [
    {
     "data": {
      "application/vnd.jupyter.widget-view+json": {
       "model_id": "c59876f76cb04e1289490ba1b76b35cf",
       "version_major": 2,
       "version_minor": 0
      },
      "text/plain": [
       "interactive(children=(Dropdown(description='boolop', options=('fuse', 'common', 'slicer', 'section', 'cut'), v…"
      ]
     },
     "metadata": {},
     "output_type": "display_data"
    }
   ],
   "source": [
    "interact(f, boolop=[\"fuse\", \"common\", \"slicer\", \"section\", \"cut\"]);"
   ]
  }
 ],
 "metadata": {
  "kernelspec": {
   "display_name": "Python 3 (ipykernel)",
   "language": "python",
   "name": "python3"
  },
  "language_info": {
   "codemirror_mode": {
    "name": "ipython",
    "version": 3
   },
   "file_extension": ".py",
   "mimetype": "text/x-python",
   "name": "python",
   "nbconvert_exporter": "python",
   "pygments_lexer": "ipython3",
   "version": "3.9.18"
  }
 },
 "nbformat": 4,
 "nbformat_minor": 4
}
